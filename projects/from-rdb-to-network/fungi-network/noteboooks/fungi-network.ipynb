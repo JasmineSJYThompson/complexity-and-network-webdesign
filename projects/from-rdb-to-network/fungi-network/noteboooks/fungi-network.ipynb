{
 "cells": [
  {
   "cell_type": "code",
   "execution_count": null,
   "metadata": {
    "vscode": {
     "languageId": "plaintext"
    }
   },
   "outputs": [],
   "source": [
    "import networkx as nx\n",
    "\n",
    "# NetworkX グラフ構築\n",
    "G = nx.Graph()\n",
    "for node in nodes:\n",
    "    G.add_node(node[\"id\"], node_type=node[\"type\"])\n",
    "for edge in edges:\n",
    "    G.add_edge(edge[\"source\"], edge[\"target\"], weight=edge[\"weight\"])\n"
   ]
  },
  {
   "cell_type": "code",
   "execution_count": null,
   "metadata": {
    "vscode": {
     "languageId": "plaintext"
    }
   },
   "outputs": [],
   "source": [
    "import json\n",
    "\n",
    "import networkx as nx\n",
    "import matplotlib.pyplot as plt\n",
    "\n",
    "with open(\"../data/sample-network.json\", \"r\", encoding=\"utf-8\") as f:\n",
    "    data = json.load(f)\n",
    "\n",
    "nodes = data[\"nodes\"]\n",
    "edges = data[\"links\"]"
   ]
  },
  {
   "cell_type": "markdown",
   "metadata": {},
   "source": [
    "# 🍄 Fungi Network Notebook\n",
    "\n",
    "This notebook visualizes and explores the structure of fungal mycelium networks using NetworkX and matplotlib.\n",
    "\n",
    "Inspired by:\n",
    "\n",
    "- Mycelial networks in forests\n",
    "- Network science (Barabási)\n",
    "- Anna Tsing's ethnography on fungi\n"
   ]
  }
 ],
 "metadata": {
  "language_info": {
   "name": "python"
  }
 },
 "nbformat": 4,
 "nbformat_minor": 2
}
