{
 "cells": [
  {
   "cell_type": "markdown",
   "metadata": {},
   "source": [
    "# 🍄 Fungi Network Notebook\n",
    "\n",
    "This notebook visualizes and explores the structure of fungal mycelium networks using NetworkX and matplotlib.\n",
    "\n",
    "Inspired by:\n",
    "\n",
    "- Mycelial networks in forests\n",
    "- Network science (Barabási)\n",
    "- Anna Tsing's ethnography on fungi\n"
   ]
  },
  {
   "cell_type": "code",
   "execution_count": null,
   "metadata": {
    "vscode": {
     "languageId": "plaintext"
    }
   },
   "outputs": [],
   "source": [
    "nodes = [\n",
    "    {\"id\": \"A\", \"type\": \"core\"},\n",
    "    {\"id\": \"B\", \"type\": \"branch\"},\n",
    "    {\"id\": \"C\", \"type\": \"branch\"},\n",
    "    {\"id\": \"D\", \"type\": \"branch\"},\n",
    "    {\"id\": \"E\", \"type\": \"tip\"},\n",
    "    {\"id\": \"F\", \"type\": \"tip\"},\n",
    "    {\"id\": \"G\", \"type\": \"tip\"}\n",
    "]\n",
    "\n",
    "edges = [\n",
    "    {\"source\": \"A\", \"target\": \"B\", \"weight\": 3},\n",
    "    {\"source\": \"A\", \"target\": \"C\", \"weight\": 2},\n",
    "    {\"source\": \"B\", \"target\": \"D\", \"weight\": 1},\n",
    "    {\"source\": \"C\", \"target\": \"E\", \"weight\": 1},\n",
    "    {\"source\": \"C\", \"target\": \"F\", \"weight\": 2},\n",
    "    {\"source\": \"D\", \"target\": \"G\", \"weight\": 4}\n",
    "]\n"
   ]
  },
  {
   "cell_type": "code",
   "execution_count": null,
   "metadata": {
    "vscode": {
     "languageId": "plaintext"
    }
   },
   "outputs": [],
   "source": [
    "import networkx as nx\n",
    "import matplotlib.pyplot as plt\n",
    "\n",
    "G = nx.Graph()\n",
    "for node in nodes:\n",
    "    G.add_node(node[\"id\"], node_type=node[\"type\"])\n",
    "for edge in edges:\n",
    "    G.add_edge(edge[\"source\"], edge[\"target\"], weight=edge[\"weight\"])\n",
    "\n",
    "color_map = {\"core\": \"#4CAF50\", \"branch\": \"#2196F3\", \"tip\": \"#FFC107\"}\n",
    "node_colors = [color_map[G.nodes[n][\"node_type\"]] for n in G.nodes]\n",
    "edge_weights = [G[u][v][\"weight\"] * 1.5 for u, v in G.edges]\n",
    "\n",
    "pos = nx.spring_layout(G, seed=42, weight=None)\n",
    "\n",
    "plt.figure(figsize=(8, 6))\n",
    "nx.draw_networkx_nodes(G, pos, node_color=node_colors, node_size=800)\n",
    "nx.draw_networkx_edges(G, pos, width=edge_weights)\n",
    "nx.draw_networkx_labels(G, pos, font_size=12, font_weight=\"bold\")\n",
    "plt.title(\"🍄 Fungi Network\")\n",
    "plt.axis(\"off\")\n",
    "plt.show()\n"
   ]
  }
 ],
 "metadata": {
  "language_info": {
   "name": "python"
  }
 },
 "nbformat": 4,
 "nbformat_minor": 2
}
