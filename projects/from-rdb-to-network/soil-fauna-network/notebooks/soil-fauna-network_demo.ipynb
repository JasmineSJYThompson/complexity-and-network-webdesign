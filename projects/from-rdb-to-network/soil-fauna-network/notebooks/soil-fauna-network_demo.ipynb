{
 "cells": [
  {
   "cell_type": "code",
   "execution_count": null,
   "id": "87683eca",
   "metadata": {},
   "outputs": [],
   "source": [
    "# ライブラリのインストール（必要に応じて）\n",
    "!pip install networkx matplotlib pandas"
   ]
  },
  {
   "cell_type": "code",
   "execution_count": null,
   "id": "74a337e1",
   "metadata": {},
   "outputs": [
    {
     "ename": "",
     "evalue": "",
     "output_type": "error",
     "traceback": [
      "\u001b[1;31m'Python 3.11.6' でセルを実行するには、 ipykernel パッケージが必要です。\n",
      "\u001b[1;31m<a href='command:jupyter.createPythonEnvAndSelectController'>Python 環境の作成</a> および必要なパッケージ。\n",
      "\u001b[1;31mまたは、次のコマンドを使用して 'ipykernel' をインストールします: 'c:/Users/user/AppData/Local/Programs/Python/Python311/python.exe -m pip install ipykernel -U --user --force-reinstall'"
     ]
    }
   ],
   "source": [
    "# ライブラリ読み込み\n",
    "import pandas as pd\n",
    "import networkx as nx\n",
    "import matplotlib.pyplot as plt\n",
    "\n",
    "# species.csv と interaction.csv の読み込み\n",
    "species_df = pd.read_csv(\"species.csv\")\n",
    "interaction_df = pd.read_csv(\"interaction.csv\")\n",
    "\n",
    "# ネットワーク初期化（有向グラフ）\n",
    "G = nx.DiGraph()\n",
    "\n",
    "# ノード追加：IDとラベル・機能的役割を属性に持たせる\n",
    "for _, row in species_df.iterrows():\n",
    "    G.add_node(row[\"id\"], label=row[\"japanese_name\"], role=row[\"functional_role\"])\n",
    "\n",
    "# エッジ追加：source_id → target_id にラベル（relation_type）を付与\n",
    "for _, row in interaction_df.iterrows():\n",
    "    G.add_edge(row[\"source_id\"], row[\"target_id\"], label=row[\"relation_type\"])\n",
    "\n",
    "# ノードの色分け（role別に簡易マッピング）\n",
    "role_colors = {\n",
    "    \"分解者\": \"green\",\n",
    "    \"分解者／菌食\": \"olive\",\n",
    "    \"捕食者／エンジニア\": \"orange\",\n",
    "    \"捕食者（網）\": \"red\",\n",
    "    \"捕食者（徘徊）\": \"darkred\",\n",
    "    \"土壌改良者\": \"blue\",\n",
    "    \"菌類（分解・共生）\": \"purple\"\n",
    "}\n",
    "node_colors = [role_colors.get(G.nodes[n][\"role\"], \"gray\") for n in G.nodes]\n",
    "\n",
    "# 描画（spring_layoutで自然配置）\n",
    "plt.figure(figsize=(10, 8))\n",
    "pos = nx.spring_layout(G, seed=42)\n",
    "\n",
    "# ノード描画\n",
    "nx.draw_networkx_nodes(G, pos, node_color=node_colors, node_size=700)\n",
    "nx.draw_networkx_labels(G, pos, labels={n: G.nodes[n][\"label\"] for n in G.nodes})\n",
    "nx.draw_networkx_edges(G, pos, arrowstyle='->', arrowsize=15)\n",
    "nx.draw_networkx_edge_labels(G, pos, edge_labels={(u, v): G[u][v][\"label\"] for u, v in G.edges})\n",
    "\n",
    "plt.title(\"🐜 土壌動物ネットワーク図（最小構成）\", fontsize=16)\n",
    "plt.axis(\"off\")\n",
    "plt.show()\n"
   ]
  }
 ],
 "metadata": {
  "kernelspec": {
   "display_name": "Python 3",
   "language": "python",
   "name": "python3"
  },
  "language_info": {
   "name": "python",
   "version": "3.11.6"
  }
 },
 "nbformat": 4,
 "nbformat_minor": 5
}
