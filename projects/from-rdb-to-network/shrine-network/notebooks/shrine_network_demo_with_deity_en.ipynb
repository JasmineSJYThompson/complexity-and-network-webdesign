{
 "cells": [
  {
   "cell_type": "code",
   "execution_count": null,
   "id": "0914660e",
   "metadata": {
    "vscode": {
     "languageId": "plaintext"
    }
   },
   "outputs": [],
   "source": [
    "import pandas as pd\n",
    "\n",
    "df = pd.read_csv(\"../data/shrine.csv\")\n",
    "df = df[[\"id\", \"name\", \"name_en\", \"deity\", \"deity_en\", \"lat\", \"lng\", \"note_summary_en\"]]\n",
    "df.head()"
   ]
  },
  {
   "cell_type": "code",
   "execution_count": null,
   "id": "c1659c03",
   "metadata": {
    "vscode": {
     "languageId": "plaintext"
    }
   },
   "outputs": [],
   "source": [
    "import folium\n",
    "\n",
    "m = folium.Map(location=[35.63, 139.72], zoom_start=13)\n",
    "\n",
    "for _, row in df.iterrows():\n",
    "    popup = f\"<b>{row['name_en']}</b><br>{row['note_summary_en']}\"\n",
    "    folium.Marker([row[\"lat\"], row[\"lng\"]], popup=popup).add_to(m)\n",
    "\n",
    "m\n"
   ]
  },
  {
   "cell_type": "markdown",
   "id": "ee7132ad",
   "metadata": {},
   "source": [
    "![Shrine Network Map](../public/images/shrine_map_meguro-river.PNG)\n"
   ]
  },
  {
   "cell_type": "code",
   "execution_count": null,
   "id": "aee64faa",
   "metadata": {
    "vscode": {
     "languageId": "plaintext"
    }
   },
   "outputs": [],
   "source": [
    "import networkx as nx\n",
    "import matplotlib.pyplot as plt\n",
    "\n",
    "G = nx.Graph()\n",
    "\n",
    "# ノード追加\n",
    "for _, row in df.iterrows():\n",
    "    G.add_node(row[\"name_en\"], lat=row[\"lat\"], lng=row[\"lng\"])\n",
    "\n",
    "# エッジ追加（共通祭神を属性に含める）\n",
    "for i in range(len(df)):\n",
    "    for j in range(i+1, len(df)):\n",
    "        set_i = set(df[\"deity_en\"][i].split(\",\"))\n",
    "        set_j = set(df[\"deity_en\"][j].split(\",\"))\n",
    "        shared_deities = set_i & set_j  # 共通部分\n",
    "\n",
    "        if shared_deities:\n",
    "            # エッジに \"shared_deities\" 属性をつけて追加\n",
    "            G.add_edge(\n",
    "                df[\"name_en\"][i],\n",
    "                df[\"name_en\"][j],\n",
    "                shared_deities=\", \".join(d.strip() for d in shared_deities)\n",
    "            )\n",
    "\n",
    "pos = nx.spring_layout(G, k=0.8, seed=42)\n",
    "\n",
    "plt.figure(figsize=(12, 9))\n",
    "nx.draw(G, pos, with_labels=True, node_color=\"skyblue\", edge_color=\"gray\")\n",
    "\n",
    "# エッジにラベル（共通祭神）を追加\n",
    "edge_labels = nx.get_edge_attributes(G, 'shared_deities')\n",
    "nx.draw_networkx_edge_labels(G, pos, edge_labels=edge_labels, font_size=8)\n",
    "\n",
    "plt.title(\"Shrine Network with Shared Deities on Edges\")\n",
    "plt.show()\n"
   ]
  },
  {
   "cell_type": "markdown",
   "id": "05bd6749",
   "metadata": {},
   "source": [
    "![Shrine Network](../public/images/shrine_network_demo_with_deity_en.png)\n"
   ]
  }
 ],
 "metadata": {
  "language_info": {
   "name": "python"
  }
 },
 "nbformat": 4,
 "nbformat_minor": 5
}
