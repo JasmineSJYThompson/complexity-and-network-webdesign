{
 "cells": [
  {
   "cell_type": "code",
   "execution_count": null,
   "id": "74b68e86",
   "metadata": {},
   "outputs": [],
   "source": [
    "import pandas as pd\n",
    "\n",
    "df_shrine = pd.read_csv(\"../data/shrine.csv\")\n",
    "df_deity = pd.read_csv(\"../data/deity.csv\")\n",
    "df_relation = pd.read_csv(\"../data/shrine_deity.csv\")\n",
    "\n",
    "deity_id_to_name = dict(zip(df_deity[\"id\"], df_deity[\"name_en\"]))"
   ]
  },
  {
   "cell_type": "code",
   "execution_count": null,
   "id": "8d3f85ea",
   "metadata": {},
   "outputs": [],
   "source": [
    "import folium\n",
    "\n",
    "m = folium.Map(location=[35.63, 139.72], zoom_start=13)\n",
    "\n",
    "for _, row in df_shrine.iterrows():\n",
    "    popup = f\"<b>{row['name_en']}</b><br>{row['note_summary_en']}\"\n",
    "    folium.Marker([row[\"lat\"], row[\"lng\"]], popup=popup).add_to(m)\n",
    "\n",
    "m\n"
   ]
  },
  {
   "cell_type": "markdown",
   "id": "063dbb76",
   "metadata": {},
   "source": [
    "![Shrine Network](../public/images/shrine_map_meguro-river.PNG)\n"
   ]
  },
  {
   "cell_type": "code",
   "execution_count": null,
   "id": "64616fde",
   "metadata": {},
   "outputs": [],
   "source": [
    "import networkx as nx\n",
    "\n",
    "G = nx.Graph()\n",
    "\n",
    "# ノード：神社\n",
    "for _, row in df_shrine.iterrows():\n",
    "    G.add_node(row[\"id\"], name=row[\"name_en\"], lat=row[\"lat\"], lng=row[\"lng\"])\n",
    "\n",
    "# 同じ祭神を祀る神社同士をエッジで接続\n",
    "from itertools import combinations\n",
    "\n",
    "# deity_idごとにshrine_idのグループを取り出す\n",
    "for deity_id, group in df_relation.groupby(\"deity_id\"):\n",
    "    shrine_ids = group[\"shrine_id\"].tolist()\n",
    "    deity_name = deity_id_to_name[deity_id]\n",
    "\n",
    "    for a, b in combinations(shrine_ids, 2):\n",
    "        G.add_edge(a, b,label=deity_name)\n"
   ]
  },
  {
   "cell_type": "code",
   "execution_count": null,
   "id": "e6d53d98",
   "metadata": {},
   "outputs": [],
   "source": [
    "import matplotlib.pyplot as plt\n",
    "\n",
    "# ID → 名称変換マップ\n",
    "shrine_labels = {row[\"id\"]: row[\"name_en\"] for _, row in df_shrine.iterrows()}\n",
    "\n",
    "edge_labels = nx.get_edge_attributes(G, 'label')\n",
    "\n",
    "# springレイアウトで配置\n",
    "pos = nx.spring_layout(G, k=1.6, seed=42)\n",
    "\n",
    "plt.figure(figsize=(12, 9))\n",
    "nx.draw(G, pos, labels=shrine_labels, with_labels=True, node_color=\"lightblue\",font_size=10,bbox=dict(facecolor='white', edgecolor='none', alpha=0.7))\n",
    "nx.draw_networkx_edge_labels(\n",
    "    G, pos,\n",
    "    edge_labels=edge_labels,\n",
    "    font_size=8,\n",
    "    font_color=\"darkgreen\"\n",
    ")\n",
    "plt.margins(0.1)\n",
    "plt.title(\"Shrine Network (based on shared deities)\")\n",
    "plt.savefig(\"shrine_network_demo_with_deity_en.png\")\n",
    "plt.show()\n"
   ]
  },
  {
   "cell_type": "markdown",
   "id": "a8b1c74f",
   "metadata": {},
   "source": [
    "![Shrine Network](../public/images/shrine_network_demo_with_deity.png)\n"
   ]
  }
 ],
 "metadata": {
  "language_info": {
   "name": "python"
  }
 },
 "nbformat": 4,
 "nbformat_minor": 5
}
