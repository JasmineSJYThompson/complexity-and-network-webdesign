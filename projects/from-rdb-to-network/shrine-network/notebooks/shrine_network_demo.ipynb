{
 "cells": [
  {
   "cell_type": "code",
   "execution_count": null,
   "id": "0914660e",
   "metadata": {
    "vscode": {
     "languageId": "plaintext"
    }
   },
   "outputs": [],
   "source": [
    "import pandas as pd\n",
    "\n",
    "df = pd.read_csv(\"../data/shrine.csv\")\n",
    "df = df[[\"id\", \"name\", \"name_en\", \"deity\", \"deity_en\", \"lat\", \"lng\", \"note_summary_en\"]]\n",
    "df.head()"
   ]
  },
  {
   "cell_type": "code",
   "execution_count": null,
   "id": "c1659c03",
   "metadata": {
    "vscode": {
     "languageId": "plaintext"
    }
   },
   "outputs": [],
   "source": [
    "import folium\n",
    "\n",
    "m = folium.Map(location=[35.63, 139.72], zoom_start=13)\n",
    "\n",
    "for _, row in df.iterrows():\n",
    "    popup = f\"<b>{row['name_en']}</b><br>{row['note_summary_en']}\"\n",
    "    folium.Marker([row[\"lat\"], row[\"lng\"]], popup=popup).add_to(m)\n",
    "\n",
    "m\n"
   ]
  },
  {
   "cell_type": "markdown",
   "id": "ee7132ad",
   "metadata": {},
   "source": [
    "![Shrine Network Map](../public/images/shrine_map_meguro-river.PNG)\n"
   ]
  },
  {
   "cell_type": "code",
   "execution_count": null,
   "id": "aee64faa",
   "metadata": {
    "vscode": {
     "languageId": "plaintext"
    }
   },
   "outputs": [],
   "source": [
    "import networkx as nx\n",
    "import matplotlib.pyplot as plt\n",
    "\n",
    "G = nx.Graph()\n",
    "\n",
    "# ノード追加\n",
    "for _, row in df.iterrows():\n",
    "    G.add_node(row[\"name_en\"], lat=row[\"lat\"], lng=row[\"lng\"], deity=row[\"deity_en\"])\n",
    "\n",
    "# 神社データフレーム df の中から、すべての神社のペアを作成（重複なし）\n",
    "for i in range(len(df)):\n",
    "    for j in range(i+1, len(df)):\n",
    "      # i番目の神社が祀る神々の英語表記（カンマ区切り）を分割し、集合（set）にする\n",
    "        set_i = set(df[\"deity_en\"][i].split(\",\"))\n",
    "        # j番目の神社が祀る神々も同様に集合にする\n",
    "        set_j = set(df[\"deity_en\"][j].split(\",\"))\n",
    "        # 共通部分があるか\n",
    "        if set_i & set_j:\n",
    "          # もし共通の神がいたら、両神社をエッジでつなぐ（グラフに辺を追加）\n",
    "            G.add_edge(df[\"name_en\"][i], df[\"name_en\"][j])\n",
    "\n",
    "# 可視化\n",
    "plt.figure(figsize=(10, 8))\n",
    "nx.draw(G, with_labels=True, node_color=\"skyblue\", edge_color=\"gray\", font_size=8)\n",
    "plt.title(\"Shrine Network (Shared Deities)\")\n",
    "plt.show()\n"
   ]
  },
  {
   "cell_type": "markdown",
   "id": "c2b7ad99",
   "metadata": {},
   "source": [
    "![Shrine Network](../public/images/shrine-network.png)\n"
   ]
  }
 ],
 "metadata": {
  "language_info": {
   "name": "python"
  }
 },
 "nbformat": 4,
 "nbformat_minor": 5
}
