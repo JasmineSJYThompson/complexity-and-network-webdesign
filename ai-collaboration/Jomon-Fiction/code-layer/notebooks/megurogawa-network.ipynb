{
  "cells": [
    {
      "cell_type": "markdown",
      "metadata": {},
      "source": [
        "# Megurogawa Cultural Network (Jomon Fiction MVP)\n",
        "\n",
        "This notebook visualizes a simple network of archaeological and sacred sites\n",
        "around the Meguro River area, based on story and research layers.\n"
      ]
    },
    {
      "cell_type": "code",
      "execution_count": null,
      "metadata": {},
      "outputs": [],
      "source": [
        "import networkx as nx\n",
        "import matplotlib.pyplot as plt\n",
        "\n",
        "# Create graph\n",
        "G = nx.Graph()\n",
        "G.add_node('目黒不動遺跡', type='遺跡')\n",
        "G.add_node('品川神社', type='神社')\n",
        "G.add_node('大森貝塚', type='貝塚')\n",
        "G.add_node('伊皿子貝塚', type='貝塚')\n",
        "G.add_node('氷川遺跡', type='遺跡')\n",
        "G.add_node('円融寺遺跡', type='遺跡')\n",
        "\n",
        "G.add_edge('目黒不動遺跡', '品川神社', relation='川沿い交易')\n",
        "G.add_edge('目黒不動遺跡', '氷川遺跡', relation='湧水文化')\n",
        "G.add_edge('品川神社', '大森貝塚', relation='湾岸の交易ランドマーク')\n",
        "G.add_edge('品川神社', '伊皿子貝塚', relation='湾岸の交易ランドマーク')\n",
        "G.add_edge('円融寺遺跡', '目黒不動遺跡', relation='癒しの流域圏')\n",
        "\n",
        "# Draw\n",
        "plt.figure(figsize=(10, 7))\n",
        "pos = nx.spring_layout(G, seed=42)\n",
        "nx.draw(G, pos, with_labels=True, node_color='lightblue', node_size=2500, font_size=10)\n",
        "nx.draw_networkx_edge_labels(G, pos, edge_labels={(u, v): d['relation'] for u, v, d in G.edges(data=True)})\n",
        "plt.title('Megurogawa Jomon Cultural Network')\n",
        "plt.show()"
      ]
    },
    {
      "cell_type": "code",
      "execution_count": null,
      "id": "ceebfc3f",
      "metadata": {},
      "outputs": [],
      "source": []
    }
  ],
  "metadata": {
    "kernelspec": {
      "display_name": "Python 3",
      "language": "python",
      "name": "python3"
    },
    "language_info": {
      "name": "python",
      "version": "3.8"
    }
  },
  "nbformat": 4,
  "nbformat_minor": 5
}
